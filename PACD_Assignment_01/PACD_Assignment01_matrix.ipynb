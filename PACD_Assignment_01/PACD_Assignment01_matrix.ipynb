{
 "cells": [
  {
   "cell_type": "code",
   "execution_count": 1,
   "metadata": {},
   "outputs": [],
   "source": [
    "import numpy as np"
   ]
  },
  {
   "cell_type": "markdown",
   "metadata": {},
   "source": [
    "## Downsampling"
   ]
  },
  {
   "cell_type": "code",
   "execution_count": 2,
   "metadata": {},
   "outputs": [],
   "source": [
    "def max_downsampling(matrix, kernel=3):\n",
    "    stride = kernel\n",
    "    h, w = matrix.shape\n",
    "    output_dim = (h // stride, w // stride)\n",
    "    output = np.zeros(output_dim, dtype=int)\n",
    "\n",
    "    for i in range(0, h-kernel+1, stride):\n",
    "        for j in range(0, w-kernel+1, stride):\n",
    "            region = matrix[i:i+kernel, j:j+kernel]\n",
    "            output[i//stride, j//stride] = np.max(region)\n",
    "    \n",
    "    return output\n",
    "\n",
    "def median_downsampling(matrix, kernel=3):\n",
    "    stride = kernel\n",
    "    h, w = matrix.shape\n",
    "    output_dim = (h // stride, w // stride)\n",
    "    output = np.zeros(output_dim, dtype=int)\n",
    "\n",
    "    for i in range(0, h-kernel+1, stride):\n",
    "        for j in range(0, w-kernel+1, stride):\n",
    "            region = matrix[i:i+kernel, j:j+kernel]\n",
    "            output[i//stride, j//stride] = np.median(region)\n",
    "    \n",
    "    return output\n",
    "\n",
    "def mean_downsampling(matrix, kernel=3):\n",
    "    stride = kernel\n",
    "    h, w = matrix.shape\n",
    "    output_dim = (h // stride, w // stride)\n",
    "    output = np.zeros(output_dim, dtype=int)\n",
    "\n",
    "    for i in range(0, h-kernel+1, stride):\n",
    "        for j in range(0, w-kernel+1, stride):\n",
    "            region = matrix[i:i+kernel, j:j+kernel]\n",
    "            output[i//stride, j//stride] = np.mean(region)\n",
    "    \n",
    "    return output"
   ]
  },
  {
   "cell_type": "code",
   "execution_count": 3,
   "metadata": {},
   "outputs": [
    {
     "name": "stdout",
     "output_type": "stream",
     "text": [
      "[[4 3 2 5 5 1 7 3 1 3]\n",
      " [4 3 4 0 7 9 2 6 7 7]\n",
      " [2 4 9 4 2 6 7 7 8 6]\n",
      " [1 6 6 2 0 7 5 7 6 4]\n",
      " [5 9 2 4 1 0 1 0 2 1]\n",
      " [5 0 3 5 7 3 0 7 0 9]\n",
      " [1 6 8 0 4 2 3 0 0 9]\n",
      " [8 4 9 5 5 2 6 3 6 1]\n",
      " [9 9 6 5 1 2 6 6 7 8]\n",
      " [1 5 1 9 3 9 2 7 7 2]]\n"
     ]
    }
   ],
   "source": [
    "x = matrix = np.random.randint(0, 10, size=(10, 10))\n",
    "print(x)"
   ]
  },
  {
   "cell_type": "code",
   "execution_count": 4,
   "metadata": {},
   "outputs": [
    {
     "name": "stdout",
     "output_type": "stream",
     "text": [
      "Max Downsampling\n",
      "[[9 9 8]\n",
      " [9 7 7]\n",
      " [9 5 7]] \n",
      "\n",
      "Median Downsampling\n",
      "[[4 5 7]\n",
      " [5 3 2]\n",
      " [8 2 6]] \n",
      "\n",
      "Mean Downsampling\n",
      "[[3 4 5]\n",
      " [4 3 3]\n",
      " [6 2 4]] \n",
      "\n"
     ]
    }
   ],
   "source": [
    "max_dw = max_downsampling(x)\n",
    "print(f\"Max Downsampling\")\n",
    "print(max_dw,\"\\n\")\n",
    "\n",
    "median_dw = median_downsampling(x)\n",
    "print(f\"Median Downsampling\")\n",
    "print(median_dw,\"\\n\")\n",
    "\n",
    "mean_dw = mean_downsampling(x)\n",
    "print(f\"Mean Downsampling\")\n",
    "print(mean_dw,\"\\n\")"
   ]
  },
  {
   "cell_type": "markdown",
   "metadata": {},
   "source": [
    "## Upsampling"
   ]
  },
  {
   "cell_type": "code",
   "execution_count": 5,
   "metadata": {},
   "outputs": [],
   "source": [
    "def nearest_neighbor(matrix, scale=2):\n",
    "    h,w = matrix.shape\n",
    "    output_dim = (int(h*scale), int(w*scale))\n",
    "    output = np.zeros(output_dim, dtype=matrix.dtype)\n",
    "    stride_row = h / output_dim[0]\n",
    "    stride_col = w / output_dim[1]\n",
    "\n",
    "    for i in range(output_dim[0]):\n",
    "        for j in range(output_dim[1]):\n",
    "            old_i = int(i * stride_row)\n",
    "            old_j = int(j * stride_col)\n",
    "            output[i, j] = matrix[old_i, old_j]\n",
    "    \n",
    "    return output\n",
    "\n",
    "# ...\n",
    "def bilinear(matrix, scale=2):\n",
    "    h, w = matrix.shape\n",
    "    output_dim = (int(h * scale), int(w * scale))\n",
    "    output = np.zeros(output_dim)\n",
    "\n",
    "    for i_new in range(output_dim[0]):\n",
    "        for j_new in range(output_dim[1]):\n",
    "            x = i_new / scale\n",
    "            y = j_new / scale\n",
    "            \n",
    "            x0 = int(np.floor(x))\n",
    "            x1 = min(x0 + 1, h-1)\n",
    "            y0 = int(np.floor(y))\n",
    "            y1 = min(y0 + 1, w-1)\n",
    "            \n",
    "            dx = x - x0\n",
    "            dy = y - y0\n",
    "            \n",
    "            output[i_new, j_new] = (\n",
    "                matrix[x0, y0]*(1-dx)*(1-dy) +\n",
    "                matrix[x1, y0]*dx*(1-dy) +\n",
    "                matrix[x0, y1]*(1-dx)*dy +\n",
    "                matrix[x1, y1]*dx*dy\n",
    "            )\n",
    "\n",
    "    return output\n",
    "\n",
    "# ...\n",
    "def cubic_kernel(t, a=-0.5):\n",
    "    t = abs(t)\n",
    "    if t <= 1:\n",
    "        return (a + 2)*t**3 - (a + 3)*t**2 + 1\n",
    "    elif t < 2:\n",
    "        return a*t**3 - 5*a*t**2 + 8*a*t - 4*a\n",
    "    else:\n",
    "        return 0\n",
    "    \n",
    "def bicubic(matrix, scale=2):\n",
    "    h, w = matrix.shape\n",
    "    H_new, W_new = int(h*scale), int(w*scale)\n",
    "    output = np.zeros((H_new, W_new), dtype=float)\n",
    "    \n",
    "    for i_new in range(H_new):\n",
    "        for j_new in range(W_new):\n",
    "            # Koordinat “real” di matriks asli\n",
    "            x = i_new / scale\n",
    "            y = j_new / scale\n",
    "            x_int = int(np.floor(x))\n",
    "            y_int = int(np.floor(y))\n",
    "            \n",
    "            value = 0\n",
    "            for m in range(-1, 3):\n",
    "                for n in range(-1, 3):\n",
    "                    xi = min(max(x_int + m, 0), h-1)\n",
    "                    yj = min(max(y_int + n, 0), w-1)\n",
    "                    weight = cubic_kernel(x - (x_int + m)) * cubic_kernel(y - (y_int + n))\n",
    "                    value += matrix[xi, yj] * weight\n",
    "            output[i_new, j_new] = value\n",
    "    return output"
   ]
  },
  {
   "cell_type": "code",
   "execution_count": 6,
   "metadata": {},
   "outputs": [
    {
     "name": "stdout",
     "output_type": "stream",
     "text": [
      "[[5 9 0]\n",
      " [6 4 0]\n",
      " [0 6 1]]\n"
     ]
    }
   ],
   "source": [
    "y = np.random.randint(0, 10, size=(3, 3))\n",
    "print(y)"
   ]
  },
  {
   "cell_type": "code",
   "execution_count": 7,
   "metadata": {},
   "outputs": [
    {
     "name": "stdout",
     "output_type": "stream",
     "text": [
      "Nearest Neighbor Upsampling\n",
      "[[5 5 9 9 0 0]\n",
      " [5 5 9 9 0 0]\n",
      " [6 6 4 4 0 0]\n",
      " [6 6 4 4 0 0]\n",
      " [0 0 6 6 1 1]\n",
      " [0 0 6 6 1 1]] \n",
      "\n",
      "Bilinear Upsampling\n",
      "[[5.   7.   9.   4.5  0.   0.  ]\n",
      " [5.5  6.   6.5  3.25 0.   0.  ]\n",
      " [6.   5.   4.   2.   0.   0.  ]\n",
      " [3.   4.   5.   2.75 0.5  0.5 ]\n",
      " [0.   3.   6.   3.5  1.   1.  ]\n",
      " [0.   3.   6.   3.5  1.   1.  ]] \n",
      "\n",
      "Bicubic Upsampling\n",
      "[[ 5.          7.5625      9.          4.75        0.         -0.5625    ]\n",
      " [ 5.875       6.52734375  6.375       3.1875     -0.0625     -0.46484375]\n",
      " [ 6.          5.25        4.          1.875       0.         -0.25      ]\n",
      " [ 3.0625      4.13671875  4.6875      2.6953125   0.5         0.23828125]\n",
      " [ 0.          3.3125      6.          3.875       1.          0.6875    ]\n",
      " [-0.375       3.19140625  6.125       4.          1.0625      0.74609375]] \n",
      "\n"
     ]
    }
   ],
   "source": [
    "nn = nearest_neighbor(y)\n",
    "print(f\"Nearest Neighbor Upsampling\")\n",
    "print(nn,\"\\n\")\n",
    "\n",
    "bilinear = bilinear(y)\n",
    "print(f\"Bilinear Upsampling\")\n",
    "print(bilinear,\"\\n\")\n",
    "\n",
    "bicubic = bicubic(y)\n",
    "print(f\"Bicubic Upsampling\")\n",
    "print(bicubic,\"\\n\")"
   ]
  }
 ],
 "metadata": {
  "kernelspec": {
   "display_name": "porto",
   "language": "python",
   "name": "python3"
  },
  "language_info": {
   "codemirror_mode": {
    "name": "ipython",
    "version": 3
   },
   "file_extension": ".py",
   "mimetype": "text/x-python",
   "name": "python",
   "nbconvert_exporter": "python",
   "pygments_lexer": "ipython3",
   "version": "3.9.21"
  }
 },
 "nbformat": 4,
 "nbformat_minor": 2
}
